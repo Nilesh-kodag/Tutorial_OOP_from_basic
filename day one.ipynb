{
 "cells": [
  {
   "cell_type": "markdown",
   "metadata": {},
   "source": [
    "<h2>Day one learning OOP </h2>\n",
    " Goal \n",
    "<ul>\n",
    "  <li>onw</li>\n",
    "  <li>Two</li>\n",
    "  <li>three</li>\n",
    "</ul>\n",
    "\n",
    "achieve \n",
    "<ul>\n",
    "  <li>onw</li>\n",
    "  <li>Two</li>\n",
    "  <li>three</li>\n",
    "</ul>\n"
   ]
  },
  {
   "cell_type": "code",
   "execution_count": 1,
   "metadata": {},
   "outputs": [
    {
     "name": "stdout",
     "output_type": "stream",
     "text": [
      "<class '__main__.parato'>\n"
     ]
    }
   ],
   "source": [
    "class parato():\n",
    "    pass\n",
    "print(parato)"
   ]
  },
  {
   "cell_type": "code",
   "execution_count": 3,
   "metadata": {},
   "outputs": [
    {
     "name": "stdout",
     "output_type": "stream",
     "text": [
      "Nilesh Ohh!! That's your name\n"
     ]
    }
   ],
   "source": [
    "class Parato():\n",
    "    \n",
    "    def __init__(self, text):\n",
    "      \n",
    "\n",
    "        self.text = text\n",
    "\n",
    "    def talk(self):\n",
    "\n",
    "        print(self.text + \" Ohh!! That's your name\")\n",
    "\n",
    "\n",
    "p = Parato(\"Nilesh\")\n",
    "p.talk()\n"
   ]
  },
  {
   "cell_type": "code",
   "execution_count": 10,
   "metadata": {},
   "outputs": [
    {
     "name": "stdout",
     "output_type": "stream",
     "text": [
      "Name is: Arthur and percentage is: 90\n"
     ]
    }
   ],
   "source": [
    "class student ():\n",
    "    def __init__(self,name, percentage):\n",
    "        self.name=name\n",
    "        self.percentage=percentage\n",
    "    \n",
    "    def name01(self):\n",
    "        print(\"Name is:\", self.name, \"and percentage is:\", self.percentage)\n",
    "\n",
    "stud = student(\"Arthur\", 90)\n",
    "stud.name01()   "
   ]
  },
  {
   "cell_type": "code",
   "execution_count": null,
   "metadata": {},
   "outputs": [],
   "source": []
  }
 ],
 "metadata": {
  "kernelspec": {
   "display_name": "Python 3",
   "language": "python",
   "name": "python3"
  },
  "language_info": {
   "codemirror_mode": {
    "name": "ipython",
    "version": 3
   },
   "file_extension": ".py",
   "mimetype": "text/x-python",
   "name": "python",
   "nbconvert_exporter": "python",
   "pygments_lexer": "ipython3",
   "version": "3.11.5"
  },
  "orig_nbformat": 4
 },
 "nbformat": 4,
 "nbformat_minor": 2
}
